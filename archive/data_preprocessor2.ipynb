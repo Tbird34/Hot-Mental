{
 "cells": [
  {
   "cell_type": "code",
   "execution_count": 2,
   "id": "2a8ff2bf-5a17-44f8-93e6-769e5dc97a30",
   "metadata": {},
   "outputs": [],
   "source": [
    "import pandas as pd\n",
    "from sklearn.impute import SimpleImputer\n",
    "from sklearn.preprocessing import StandardScaler\n",
    "from sklearn.model_selection import train_test_split\n",
    "from imblearn.over_sampling import SMOTE\n",
    "\n",
    "def preprocess_data(df):\n",
    "    \"\"\"\n",
    "    Preprocess the given DataFrame.\n",
    "\n",
    "    Parameters:\n",
    "    df (DataFrame): The DataFrame to preprocess.\n",
    "\n",
    "    Returns:\n",
    "    DataFrame: The preprocessed DataFrame.\n",
    "    \"\"\"\n",
    "    # Handling missing values\n",
    "    imputer = SimpleImputer(strategy='mean')\n",
    "    df.iloc[:, :] = imputer.fit_transform(df)\n",
    "\n",
    "    # Dealing with outliers using Z-score\n",
    "    z_scores = (df - df.mean()) / df.std()\n",
    "    df = df[(z_scores > -3).all(axis=1) & (z_scores < 3).all(axis=1)]\n",
    "\n",
    "    # Normalizing data\n",
    "    scaler = StandardScaler()\n",
    "    df.iloc[:, :] = scaler.fit_transform(df)\n",
    "\n",
    "    # Addressing class imbalance\n",
    "    y = df['Outcome']  # Target variable\n",
    "    X = df.drop('Outcome', axis=1)\n",
    "\n",
    "    y = y.astype(int)\n",
    "    # Split data into training and testing sets\n",
    "    X_train, X_test, y_train, y_test = train_test_split(X, y, test_size=0.3, random_state=42)\n",
    "\n",
    "    # Use SMOTE to oversample the minority class in the training set\n",
    "    smote = SMOTE(random_state=42)\n",
    "    X_train, y_train = smote.fit_resample(X_train, y_train)\n",
    "\n",
    "    return X_train, X_test, y_train, y_test\n"
   ]
  },
  {
   "cell_type": "code",
   "execution_count": null,
   "id": "5b96ce12-fbe8-4ed4-9229-864baecf28e3",
   "metadata": {},
   "outputs": [],
   "source": []
  }
 ],
 "metadata": {
  "kernelspec": {
   "display_name": "Python 3 (ipykernel)",
   "language": "python",
   "name": "python3"
  },
  "language_info": {
   "codemirror_mode": {
    "name": "ipython",
    "version": 3
   },
   "file_extension": ".py",
   "mimetype": "text/x-python",
   "name": "python",
   "nbconvert_exporter": "python",
   "pygments_lexer": "ipython3",
   "version": "3.11.5"
  }
 },
 "nbformat": 4,
 "nbformat_minor": 5
}
